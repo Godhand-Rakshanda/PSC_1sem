{
 "cells": [
  {
   "cell_type": "code",
   "execution_count": 47,
   "id": "1ae999d3-5557-4ac5-bb24-b700dfd1672e",
   "metadata": {},
   "outputs": [],
   "source": [
    "s = \"this is My First Python Programming class and i am learNING python string and its function\"  "
   ]
  },
  {
   "cell_type": "markdown",
   "id": "75978f9e-3281-41a2-a79c-4182dedb3fde",
   "metadata": {},
   "source": [
    "# 1. Try to extract data from index one to index 300 with a jump of 3"
   ]
  },
  {
   "cell_type": "code",
   "execution_count": 48,
   "id": "bf28a4f5-369b-4807-8003-069ad0c1c954",
   "metadata": {},
   "outputs": [
    {
     "data": {
      "text/plain": [
       "'h   r tnrrmglsnimeNGyosi dtfco'"
      ]
     },
     "execution_count": 48,
     "metadata": {},
     "output_type": "execute_result"
    }
   ],
   "source": [
    "s[1:301:3]"
   ]
  },
  {
   "cell_type": "markdown",
   "id": "ca87a3e5-5772-4f23-872f-8cf2a11b0d23",
   "metadata": {},
   "source": [
    "# 2. Try to reverse a string without using reverse function"
   ]
  },
  {
   "cell_type": "code",
   "execution_count": 62,
   "id": "30387c3f-baf1-4556-8129-6b522f8194ff",
   "metadata": {},
   "outputs": [
    {
     "data": {
      "text/plain": [
       "'noitcnuf sti dna gnirts nohtyp GNINrael ma i dna ssalc gnimmargorP nohtyP tsriF yM si siht'"
      ]
     },
     "execution_count": 62,
     "metadata": {},
     "output_type": "execute_result"
    }
   ],
   "source": [
    "s[::-1]"
   ]
  },
  {
   "cell_type": "markdown",
   "id": "3f024c0d-284d-4850-90bc-bb6a9af7126c",
   "metadata": {},
   "source": [
    "# 3. Try to split a string after conversion of entire string in uppercase"
   ]
  },
  {
   "cell_type": "code",
   "execution_count": 49,
   "id": "b22611d5-bf15-4d7a-8daf-950672d31c74",
   "metadata": {},
   "outputs": [
    {
     "data": {
      "text/plain": [
       "['THIS',\n",
       " 'IS',\n",
       " 'MY',\n",
       " 'FIRST',\n",
       " 'PYTHON',\n",
       " 'PROGRAMMING',\n",
       " 'CLASS',\n",
       " 'AND',\n",
       " 'I',\n",
       " 'AM',\n",
       " 'LEARNING',\n",
       " 'PYTHON',\n",
       " 'STRING',\n",
       " 'AND',\n",
       " 'ITS',\n",
       " 'FUNCTION']"
      ]
     },
     "execution_count": 49,
     "metadata": {},
     "output_type": "execute_result"
    }
   ],
   "source": [
    "# Method 1\n",
    "s1 = s.upper()\n",
    "s1.split()"
   ]
  },
  {
   "cell_type": "code",
   "execution_count": 50,
   "id": "da2ee82d-773b-477a-8c40-7c26655f6a4b",
   "metadata": {},
   "outputs": [
    {
     "data": {
      "text/plain": [
       "['THIS',\n",
       " 'IS',\n",
       " 'MY',\n",
       " 'FIRST',\n",
       " 'PYTHON',\n",
       " 'PROGRAMMING',\n",
       " 'CLASS',\n",
       " 'AND',\n",
       " 'I',\n",
       " 'AM',\n",
       " 'LEARNING',\n",
       " 'PYTHON',\n",
       " 'STRING',\n",
       " 'AND',\n",
       " 'ITS',\n",
       " 'FUNCTION']"
      ]
     },
     "execution_count": 50,
     "metadata": {},
     "output_type": "execute_result"
    }
   ],
   "source": [
    "# Method 2\n",
    "s.upper() .split()"
   ]
  },
  {
   "cell_type": "markdown",
   "id": "1cacd816-cf81-4dff-91c2-1fdfccda85ef",
   "metadata": {},
   "source": [
    "# 4. Try to convert the whole string into lower case"
   ]
  },
  {
   "cell_type": "code",
   "execution_count": 51,
   "id": "3e5ee4dc-47df-4dbb-86a5-c7485874ff2a",
   "metadata": {},
   "outputs": [
    {
     "data": {
      "text/plain": [
       "'this is my first python programming class and i am learning python string and its function'"
      ]
     },
     "execution_count": 51,
     "metadata": {},
     "output_type": "execute_result"
    }
   ],
   "source": [
    "s.lower()"
   ]
  },
  {
   "cell_type": "markdown",
   "id": "28b4fa2e-fafb-4d25-95cd-2bf52edf1801",
   "metadata": {},
   "source": [
    "# 5. Try to capitalize the whole string"
   ]
  },
  {
   "cell_type": "code",
   "execution_count": 52,
   "id": "264dbb29-75f7-4a03-847c-b9f9b6dfb2fa",
   "metadata": {},
   "outputs": [
    {
     "data": {
      "text/plain": [
       "'This is my first python programming class and i am learning python string and its function'"
      ]
     },
     "execution_count": 52,
     "metadata": {},
     "output_type": "execute_result"
    }
   ],
   "source": [
    "s.capitalize()"
   ]
  },
  {
   "cell_type": "markdown",
   "id": "35af3f6f-747c-4611-8252-ed2e5bd963dd",
   "metadata": {},
   "source": [
    "# 6. Write a difference between isalnum() and isalpha()"
   ]
  },
  {
   "cell_type": "code",
   "execution_count": 53,
   "id": "25e4a6bc-cc97-41f8-8796-6574828fd815",
   "metadata": {},
   "outputs": [],
   "source": [
    "#The isalpha() method gives True if all the characters in the string are alphabets and the isalnum() methods gives True if all the characters in the string are alphabets and numbers"
   ]
  },
  {
   "cell_type": "code",
   "execution_count": 54,
   "id": "5154861e-52ba-4e53-a1c0-fcc37afb404d",
   "metadata": {},
   "outputs": [],
   "source": [
    "# For example"
   ]
  },
  {
   "cell_type": "code",
   "execution_count": 55,
   "id": "48e23b38-c323-42ab-bd5e-d668a6f6868a",
   "metadata": {},
   "outputs": [],
   "source": [
    "test=\"abcde\"\n",
    "test1=\"abc2d3e\""
   ]
  },
  {
   "cell_type": "code",
   "execution_count": 56,
   "id": "9355d35e-561a-4da9-91a6-9153701a2ebd",
   "metadata": {},
   "outputs": [
    {
     "data": {
      "text/plain": [
       "True"
      ]
     },
     "execution_count": 56,
     "metadata": {},
     "output_type": "execute_result"
    }
   ],
   "source": [
    "test.isalpha()"
   ]
  },
  {
   "cell_type": "code",
   "execution_count": 57,
   "id": "2da55b87-5621-4774-8e96-7fa601899bf1",
   "metadata": {},
   "outputs": [
    {
     "data": {
      "text/plain": [
       "True"
      ]
     },
     "execution_count": 57,
     "metadata": {},
     "output_type": "execute_result"
    }
   ],
   "source": [
    "test.isalnum()"
   ]
  },
  {
   "cell_type": "code",
   "execution_count": 58,
   "id": "343a7e49-36b9-42b8-a1c8-8d97edccb704",
   "metadata": {},
   "outputs": [
    {
     "data": {
      "text/plain": [
       "False"
      ]
     },
     "execution_count": 58,
     "metadata": {},
     "output_type": "execute_result"
    }
   ],
   "source": [
    "test1.isalpha()"
   ]
  },
  {
   "cell_type": "code",
   "execution_count": 59,
   "id": "3482940b-9a88-491a-bcf6-f6c2e4edbd4c",
   "metadata": {},
   "outputs": [
    {
     "data": {
      "text/plain": [
       "True"
      ]
     },
     "execution_count": 59,
     "metadata": {},
     "output_type": "execute_result"
    }
   ],
   "source": [
    "test1.isalnum()"
   ]
  },
  {
   "cell_type": "markdown",
   "id": "ea455aca-d171-4688-a348-144fb2650e20",
   "metadata": {},
   "source": [
    "# 7. Try to give an example of expand tab"
   ]
  },
  {
   "cell_type": "code",
   "execution_count": 66,
   "id": "3bb96f33-5415-4139-a283-4745556c59b2",
   "metadata": {},
   "outputs": [],
   "source": [
    "s2 = \"this\\tis\\ta\\texample\""
   ]
  },
  {
   "cell_type": "code",
   "execution_count": 67,
   "id": "a299a97f-071c-4139-9372-dd351a8b0782",
   "metadata": {},
   "outputs": [
    {
     "data": {
      "text/plain": [
       "'this    is      a       example'"
      ]
     },
     "execution_count": 67,
     "metadata": {},
     "output_type": "execute_result"
    }
   ],
   "source": [
    "s2.expandtabs()"
   ]
  },
  {
   "cell_type": "markdown",
   "id": "b143ec78-0d22-478c-b66a-d0fb8d6695d1",
   "metadata": {},
   "source": [
    "# 8. Give an example of expand tab"
   ]
  },
  {
   "cell_type": "code",
   "execution_count": 68,
   "id": "eb43550a-6016-4638-9904-fc47c9b4b043",
   "metadata": {},
   "outputs": [],
   "source": [
    "stexp = \"     3654djhjsgdfisjbkfd        \""
   ]
  },
  {
   "cell_type": "code",
   "execution_count": 69,
   "id": "0d11f0c7-2456-4bb4-9c51-155ec67c2940",
   "metadata": {},
   "outputs": [],
   "source": [
    "#for strip"
   ]
  },
  {
   "cell_type": "code",
   "execution_count": 70,
   "id": "097e1382-fac3-40dd-9806-ae5527f7d849",
   "metadata": {},
   "outputs": [
    {
     "data": {
      "text/plain": [
       "'3654djhjsgdfisjbkfd'"
      ]
     },
     "execution_count": 70,
     "metadata": {},
     "output_type": "execute_result"
    }
   ],
   "source": [
    "stexp.strip()"
   ]
  },
  {
   "cell_type": "markdown",
   "id": "8d756184-4998-4cac-8256-b8dd481f293e",
   "metadata": {},
   "source": [
    "# 9. Replace a string character by another character by taking your own example\n"
   ]
  },
  {
   "cell_type": "code",
   "execution_count": null,
   "id": "97a08137-9da8-48e7-b956-0e5fd7721a86",
   "metadata": {},
   "outputs": [],
   "source": [
    "string = \"Rakshanda\""
   ]
  },
  {
   "cell_type": "code",
   "execution_count": null,
   "id": "a162645a-352a-4d3b-8cd6-467ad59a218a",
   "metadata": {},
   "outputs": [],
   "source": [
    "string.replace()"
   ]
  },
  {
   "cell_type": "code",
   "execution_count": null,
   "id": "3a1fe47c-944e-493d-8c46-d3deaad6900b",
   "metadata": {},
   "outputs": [],
   "source": []
  },
  {
   "cell_type": "markdown",
   "id": "892b970e-4998-440c-9aec-182eac937992",
   "metadata": {},
   "source": [
    "# 10. Try to give a defination of string center function with and example"
   ]
  },
  {
   "cell_type": "code",
   "execution_count": null,
   "id": "2a15698a-45ed-4a91-9f6f-41583570ed71",
   "metadata": {},
   "outputs": [],
   "source": []
  },
  {
   "cell_type": "code",
   "execution_count": null,
   "id": "d7e8fdac-62ee-48fb-b761-0262a979874d",
   "metadata": {},
   "outputs": [],
   "source": []
  },
  {
   "cell_type": "code",
   "execution_count": null,
   "id": "c3e31b5b-b6f1-47d0-b533-fcd80fb164dd",
   "metadata": {},
   "outputs": [],
   "source": []
  },
  {
   "cell_type": "markdown",
   "id": "4fbe24ce-54e1-42d6-86da-324c25a68941",
   "metadata": {},
   "source": [
    "# 11Que"
   ]
  },
  {
   "cell_type": "code",
   "execution_count": null,
   "id": "a9167a0e-4a5c-4d4a-838b-59512ba9e49a",
   "metadata": {},
   "outputs": [],
   "source": []
  },
  {
   "cell_type": "code",
   "execution_count": null,
   "id": "317186b7-1187-483e-a065-c7c224c74097",
   "metadata": {},
   "outputs": [],
   "source": []
  },
  {
   "cell_type": "code",
   "execution_count": null,
   "id": "a6090bc1-e4b5-4c8f-86c6-859d658c29f8",
   "metadata": {},
   "outputs": [],
   "source": []
  },
  {
   "cell_type": "markdown",
   "id": "61fc04a1-7ba9-465a-816a-159cf00c36a2",
   "metadata": {},
   "source": [
    "# 12.Que"
   ]
  },
  {
   "cell_type": "code",
   "execution_count": null,
   "id": "89d46def-3c7a-40a3-b1c6-28cbb0aefcac",
   "metadata": {},
   "outputs": [],
   "source": []
  },
  {
   "cell_type": "code",
   "execution_count": null,
   "id": "3e048c6d-eb10-48f2-80c8-089505f5df6b",
   "metadata": {},
   "outputs": [],
   "source": []
  },
  {
   "cell_type": "code",
   "execution_count": null,
   "id": "fe30be0e-eaa5-4fac-9c54-a3dc323c2d03",
   "metadata": {},
   "outputs": [],
   "source": []
  },
  {
   "cell_type": "markdown",
   "id": "9597730e-d2d6-438f-b017-8e22a37a8696",
   "metadata": {},
   "source": [
    "# 13.Que"
   ]
  },
  {
   "cell_type": "code",
   "execution_count": null,
   "id": "0d8bda1c-5846-43f5-80a1-8dc4826e4e91",
   "metadata": {},
   "outputs": [],
   "source": []
  },
  {
   "cell_type": "code",
   "execution_count": null,
   "id": "72f202cc-5812-488e-9566-dd3afdf9560a",
   "metadata": {},
   "outputs": [],
   "source": []
  },
  {
   "cell_type": "code",
   "execution_count": null,
   "id": "e55d8532-9d04-49bf-a185-ac2570b4db49",
   "metadata": {},
   "outputs": [],
   "source": []
  }
 ],
 "metadata": {
  "kernelspec": {
   "display_name": "Python 3 (ipykernel)",
   "language": "python",
   "name": "python3"
  },
  "language_info": {
   "codemirror_mode": {
    "name": "ipython",
    "version": 3
   },
   "file_extension": ".py",
   "mimetype": "text/x-python",
   "name": "python",
   "nbconvert_exporter": "python",
   "pygments_lexer": "ipython3",
   "version": "3.12.4"
  }
 },
 "nbformat": 4,
 "nbformat_minor": 5
}
